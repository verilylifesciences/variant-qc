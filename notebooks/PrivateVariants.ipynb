{
  "nbformat": 4,
  "nbformat_minor": 0,
  "metadata": {
    "colab": {
      "name": "PrivateVariants.ipynb",
      "version": "0.3.2",
      "provenance": [],
      "collapsed_sections": [
        "koiBQSnLtPIZ"
      ],
      "toc_visible": true
    },
    "kernelspec": {
      "name": "python3",
      "display_name": "Python 3"
    }
  },
  "cells": [
    {
      "metadata": {
        "id": "koiBQSnLtPIZ",
        "colab_type": "text"
      },
      "cell_type": "markdown",
      "source": [
        "##### Copyright 2018 Verily Life Sciences LLC.\n",
        "\n",
        "Licensed under the Apache License, Version 2.0 (the \"License\");"
      ]
    },
    {
      "metadata": {
        "id": "YyqHstDwtRtp",
        "colab_type": "code",
        "colab": {}
      },
      "cell_type": "code",
      "source": [
        "#@title Default title text\n",
        "# Licensed under the Apache License, Version 2.0 (the \"License\");\n",
        "# you may not use this file except in compliance with the License.\n",
        "# You may obtain a copy of the License at\n",
        "#\n",
        "# https://www.apache.org/licenses/LICENSE-2.0\n",
        "#\n",
        "# Unless required by applicable law or agreed to in writing, software\n",
        "# distributed under the License is distributed on an \"AS IS\" BASIS,\n",
        "# WITHOUT WARRANTIES OR CONDITIONS OF ANY KIND, either express or implied.\n",
        "# See the License for the specific language governing permissions and\n",
        "# limitations under the License."
      ],
      "execution_count": 0,
      "outputs": []
    },
    {
      "metadata": {
        "id": "7VUwyPHs37I6",
        "colab_type": "text"
      },
      "cell_type": "markdown",
      "source": [
        "This notebook demonstrates how one can dive deeper into QC results to explain some unexpected patterns. In this notebook, we will see that a few samples in the [Platinum Genomes](https://cloud.google.com/genomics/docs/public-datasets/illumina-platinum-genomes) have a very low number of private variants, and we will figure out why.\n",
        "\n",
        "> Eberle, MA et al. (2017) **A reference data set of 5.4 million phased human variants validated by genetic inheritance from sequencing a three-generation 17-member pedigree.** Genome Research 27: 157-164. [doi:10.1101/gr.210500.116](http://dx.doi.org/10.1101/gr.210500.116)\n",
        "\n",
        "# Setup"
      ]
    },
    {
      "metadata": {
        "id": "S9MlyKZQx9ks",
        "colab_type": "text"
      },
      "cell_type": "markdown",
      "source": [
        "Check out the code for the various QC methods to the current working directory. Further down in the notebook we will read the SQL templates from this clone."
      ]
    },
    {
      "metadata": {
        "id": "YoG98QvexZAD",
        "colab_type": "code",
        "colab": {}
      },
      "cell_type": "code",
      "source": [
        "!git clone https://github.com/verilylifesciences/variant-qc.git"
      ],
      "execution_count": 0,
      "outputs": []
    },
    {
      "metadata": {
        "id": "2S_YUJBQyD_j",
        "colab_type": "text"
      },
      "cell_type": "markdown",
      "source": [
        "Install additional Python dependencies [plotnine](https://plotnine.readthedocs.io/en/stable/) for plotting and [jinja2](http://jinja.pocoo.org/docs/2.10/) for performing text replacements in the SQL templates."
      ]
    },
    {
      "metadata": {
        "id": "6NFY5d49xUm0",
        "colab_type": "code",
        "colab": {}
      },
      "cell_type": "code",
      "source": [
        "!pip install --upgrade plotnine jinja2"
      ],
      "execution_count": 0,
      "outputs": []
    },
    {
      "metadata": {
        "id": "yDxB_hQy0jrl",
        "colab_type": "code",
        "colab": {}
      },
      "cell_type": "code",
      "source": [
        "import jinja2\n",
        "import numpy as np\n",
        "import os\n",
        "import pandas as pd\n",
        "import plotnine\n",
        "from plotnine import *\n",
        "\n",
        "plotnine.options.figure_size = (10, 6)"
      ],
      "execution_count": 0,
      "outputs": []
    },
    {
      "metadata": {
        "id": "d6eBXPcw-4FQ",
        "colab_type": "code",
        "colab": {}
      },
      "cell_type": "code",
      "source": [
        "# Change this to be your project id.\n",
        "PROJECT_ID = 'your-project-id'  #@param"
      ],
      "execution_count": 0,
      "outputs": []
    },
    {
      "metadata": {
        "id": "5bGPs-tVxPNt",
        "colab_type": "code",
        "outputId": "5acb8f2c-2c15-4094-a4f1-008890fe5e54",
        "colab": {
          "base_uri": "https://localhost:8080/",
          "height": 35
        }
      },
      "cell_type": "code",
      "source": [
        "from google.colab import auth\n",
        "auth.authenticate_user()\n",
        "print('Authenticated')"
      ],
      "execution_count": 0,
      "outputs": [
        {
          "output_type": "stream",
          "text": [
            "Authenticated\n"
          ],
          "name": "stdout"
        }
      ]
    },
    {
      "metadata": {
        "id": "C4TFV9Ro1CnE",
        "colab_type": "code",
        "colab": {}
      },
      "cell_type": "code",
      "source": [
        "def run_query(sql_template, replacements={}):\n",
        "    if os.path.isfile(sql_template):\n",
        "        sql_template = open(sql_template, \"r\").read()\n",
        "    sql = jinja2.Template(sql_template).render(replacements)\n",
        "    print('SQL to be executed:\\n', sql)\n",
        "    df = pd.io.gbq.read_gbq(sql, project_id=PROJECT_ID, dialect='standard')\n",
        "    print('\\nResult shape:\\t', df.shape)\n",
        "    return df"
      ],
      "execution_count": 0,
      "outputs": []
    },
    {
      "metadata": {
        "id": "oTFPDyXs_ZjH",
        "colab_type": "text"
      },
      "cell_type": "markdown",
      "source": [
        "# Get a count of private variants"
      ]
    },
    {
      "metadata": {
        "id": "OVrx9YKk_05k",
        "colab_type": "text"
      },
      "cell_type": "markdown",
      "source": [
        "## Compute the private variant counts BigQuery\n",
        "\n",
        "Running this query is optional as this has already been done and saved to Cloud Storage. See the next section for how to retrieve these results from Cloud Storage."
      ]
    },
    {
      "metadata": {
        "id": "q2BIXNhJ_H4A",
        "colab_type": "code",
        "outputId": "0734aa8c-7951-4776-f691-e6f359b4b777",
        "colab": {
          "base_uri": "https://localhost:8080/",
          "height": 881
        }
      },
      "cell_type": "code",
      "source": [
        "# Read the SQL template from the cloned repository in the home directory, perform\n",
        "# the variable replacements and execute the query.\n",
        "df = run_query(\n",
        "    sql_template='variant-qc/sql/private_variants.sql',\n",
        "    replacements={\n",
        "        'GENOME_CALL_OR_MULTISAMPLE_VARIANT_TABLE': 'bigquery-public-data.human_genome_variants.platinum_genomes_deepvariant_variants_20180823',\n",
        "        'HIGH_QUALITY_CALLS_FILTER': 'NOT EXISTS (SELECT ft FROM UNNEST(c.FILTER) ft WHERE ft NOT IN (\"PASS\", \".\"))'\n",
        "    }\n",
        ")"
      ],
      "execution_count": 0,
      "outputs": [
        {
          "output_type": "stream",
          "text": [
            "SQL to be executed:\n",
            " #standardSQL\n",
            "--\n",
            "-- Compute private variants counts for each sample.\n",
            "--\n",
            "WITH filtered_called_alleles AS (\n",
            "  SELECT\n",
            "    reference_name,\n",
            "    start_position,\n",
            "    reference_bases AS ref,\n",
            "    a.alt,\n",
            "    c.name\n",
            "  FROM\n",
            "    `bigquery-public-data.human_genome_variants.platinum_genomes_deepvariant_variants_20180823` AS v,\n",
            "    UNNEST(v.call) AS c,\n",
            "    UNNEST(v.alternate_bases) AS a WITH OFFSET alt_offset\n",
            "  WHERE\n",
            "    EXISTS (SELECT g FROM UNNEST(c.genotype) AS g WHERE g = alt_offset+1)\n",
            "    # Include only high quality calls.\n",
            "    AND NOT EXISTS (SELECT ft FROM UNNEST(c.FILTER) ft WHERE ft NOT IN (\"PASS\", \".\"))\n",
            "),\n",
            "\n",
            "grouped_alleles AS (\n",
            "  SELECT\n",
            "    reference_name,\n",
            "    start_position,\n",
            "    ref,\n",
            "    alt,\n",
            "    STRING_AGG(name) AS name,\n",
            "    COUNT(name) AS num_samples_with_variant\n",
            "  FROM filtered_called_alleles\n",
            "  GROUP BY\n",
            "    reference_name,\n",
            "    start_position,\n",
            "    ref,\n",
            "    alt\n",
            ")\n",
            "\n",
            "SELECT\n",
            "  name,\n",
            "  COUNT(name) AS private_variant_count\n",
            "FROM grouped_alleles\n",
            "WHERE\n",
            "  num_samples_with_variant = 1\n",
            "GROUP BY\n",
            "  name\n",
            "ORDER BY\n",
            "  private_variant_count DESC\n",
            "\n",
            "Result shape:\t (6, 2)\n"
          ],
          "name": "stdout"
        }
      ]
    },
    {
      "metadata": {
        "id": "BUM9unk9VrTV",
        "colab_type": "text"
      },
      "cell_type": "markdown",
      "source": [
        "## Retrieve the private variant counts from Cloud Storage\n",
        "\n",
        "We can read these values from the CSV created via [Sample-Level-QC.Rmd](https://github.com/verilylifesciences/variant-qc/blob/master/R/Sample-Level-QC.Rmd)."
      ]
    },
    {
      "metadata": {
        "id": "LcxhONaWY2fA",
        "colab_type": "code",
        "outputId": "02028280-a23b-4929-d04b-a591841a6017",
        "colab": {
          "base_uri": "https://localhost:8080/",
          "height": 35
        }
      },
      "cell_type": "code",
      "source": [
        "df = pd.read_csv(\"https://storage.googleapis.com/genomics-public-data/platinum-genomes/reports/DeepVariant_Platinum_Genomes_sample_results.csv\")[[\"name\", \"private_variant_count\"]]\n",
        "df.shape"
      ],
      "execution_count": 0,
      "outputs": [
        {
          "output_type": "execute_result",
          "data": {
            "text/plain": [
              "(6, 2)"
            ]
          },
          "metadata": {
            "tags": []
          },
          "execution_count": 7
        }
      ]
    },
    {
      "metadata": {
        "id": "crEAiuoWXnWI",
        "colab_type": "text"
      },
      "cell_type": "markdown",
      "source": [
        "## Examine results and outliers\n",
        "\n",
        "This small cohort does not contain enough samples to estimate the expected number of private variants. It is used here for demonstration purposes only."
      ]
    },
    {
      "metadata": {
        "id": "u1DRTXkpMxR6",
        "colab_type": "code",
        "outputId": "076e793c-f20e-4e59-e67e-7d93317d8570",
        "colab": {
          "base_uri": "https://localhost:8080/",
          "height": 228
        }
      },
      "cell_type": "code",
      "source": [
        "df"
      ],
      "execution_count": 0,
      "outputs": [
        {
          "output_type": "execute_result",
          "data": {
            "text/html": [
              "<div>\n",
              "<style scoped>\n",
              "    .dataframe tbody tr th:only-of-type {\n",
              "        vertical-align: middle;\n",
              "    }\n",
              "\n",
              "    .dataframe tbody tr th {\n",
              "        vertical-align: top;\n",
              "    }\n",
              "\n",
              "    .dataframe thead th {\n",
              "        text-align: right;\n",
              "    }\n",
              "</style>\n",
              "<table border=\"1\" class=\"dataframe\">\n",
              "  <thead>\n",
              "    <tr style=\"text-align: right;\">\n",
              "      <th></th>\n",
              "      <th>name</th>\n",
              "      <th>private_variant_count</th>\n",
              "    </tr>\n",
              "  </thead>\n",
              "  <tbody>\n",
              "    <tr>\n",
              "      <th>0</th>\n",
              "      <td>NA12877</td>\n",
              "      <td>87153</td>\n",
              "    </tr>\n",
              "    <tr>\n",
              "      <th>1</th>\n",
              "      <td>NA12878</td>\n",
              "      <td>84171</td>\n",
              "    </tr>\n",
              "    <tr>\n",
              "      <th>2</th>\n",
              "      <td>NA12889</td>\n",
              "      <td>371670</td>\n",
              "    </tr>\n",
              "    <tr>\n",
              "      <th>3</th>\n",
              "      <td>NA12890</td>\n",
              "      <td>392743</td>\n",
              "    </tr>\n",
              "    <tr>\n",
              "      <th>4</th>\n",
              "      <td>NA12891</td>\n",
              "      <td>353934</td>\n",
              "    </tr>\n",
              "    <tr>\n",
              "      <th>5</th>\n",
              "      <td>NA12892</td>\n",
              "      <td>378972</td>\n",
              "    </tr>\n",
              "  </tbody>\n",
              "</table>\n",
              "</div>"
            ],
            "text/plain": [
              "      name  private_variant_count\n",
              "0  NA12877                  87153\n",
              "1  NA12878                  84171\n",
              "2  NA12889                 371670\n",
              "3  NA12890                 392743\n",
              "4  NA12891                 353934\n",
              "5  NA12892                 378972"
            ]
          },
          "metadata": {
            "tags": []
          },
          "execution_count": 8
        }
      ]
    },
    {
      "metadata": {
        "id": "VflsXwU9Nft9",
        "colab_type": "text"
      },
      "cell_type": "markdown",
      "source": [
        "Let's take a look at the samples who are more than one standard deviation away from the mean."
      ]
    },
    {
      "metadata": {
        "id": "ERA1W99VMJ-G",
        "colab_type": "code",
        "outputId": "50713e6b-27a2-4b94-b74b-ce6867224a8a",
        "colab": {
          "base_uri": "https://localhost:8080/",
          "height": 108
        }
      },
      "cell_type": "code",
      "source": [
        "df.loc[abs(df.private_variant_count - df.private_variant_count.mean()) > df.private_variant_count.std(), :]"
      ],
      "execution_count": 0,
      "outputs": [
        {
          "output_type": "execute_result",
          "data": {
            "text/html": [
              "<div>\n",
              "<style scoped>\n",
              "    .dataframe tbody tr th:only-of-type {\n",
              "        vertical-align: middle;\n",
              "    }\n",
              "\n",
              "    .dataframe tbody tr th {\n",
              "        vertical-align: top;\n",
              "    }\n",
              "\n",
              "    .dataframe thead th {\n",
              "        text-align: right;\n",
              "    }\n",
              "</style>\n",
              "<table border=\"1\" class=\"dataframe\">\n",
              "  <thead>\n",
              "    <tr style=\"text-align: right;\">\n",
              "      <th></th>\n",
              "      <th>name</th>\n",
              "      <th>private_variant_count</th>\n",
              "    </tr>\n",
              "  </thead>\n",
              "  <tbody>\n",
              "    <tr>\n",
              "      <th>0</th>\n",
              "      <td>NA12877</td>\n",
              "      <td>87153</td>\n",
              "    </tr>\n",
              "    <tr>\n",
              "      <th>1</th>\n",
              "      <td>NA12878</td>\n",
              "      <td>84171</td>\n",
              "    </tr>\n",
              "  </tbody>\n",
              "</table>\n",
              "</div>"
            ],
            "text/plain": [
              "      name  private_variant_count\n",
              "0  NA12877                  87153\n",
              "1  NA12878                  84171"
            ]
          },
          "metadata": {
            "tags": []
          },
          "execution_count": 9
        }
      ]
    },
    {
      "metadata": {
        "id": "ocNTOIY9NxT-",
        "colab_type": "text"
      },
      "cell_type": "markdown",
      "source": [
        "Next let's see if the sample metadata can be used to help explain the explain the low number of private variants that we see."
      ]
    },
    {
      "metadata": {
        "id": "5DHoGdJuFM22",
        "colab_type": "text"
      },
      "cell_type": "markdown",
      "source": [
        "# Retrieve sample metadata\n",
        "\n",
        "The platinum genomes samples are also members of the larger 1000 genomes dataset. We can retrieve the metadata for those samples from the 1000 genomes metadata."
      ]
    },
    {
      "metadata": {
        "id": "lJE7GJm1FYRR",
        "colab_type": "code",
        "outputId": "c6ee7b48-9402-4f04-870e-d7a0d29e98f6",
        "colab": {
          "base_uri": "https://localhost:8080/",
          "height": 259
        }
      },
      "cell_type": "code",
      "source": [
        "metadata_df = run_query(\n",
        "    sql_template=\"\"\"\n",
        "SELECT\n",
        "  Sample AS name,\n",
        "  Gender AS sex,\n",
        "  Super_Population AS ancestry,\n",
        "  Relationship AS relationship\n",
        "FROM\n",
        "  `bigquery-public-data.human_genome_variants.1000_genomes_sample_info`\n",
        "WHERE\n",
        "  Sample IN ('NA12877', 'NA12878', 'NA12889', 'NA12890', 'NA12891', 'NA12892')\n",
        "  \"\"\"\n",
        ")"
      ],
      "execution_count": 0,
      "outputs": [
        {
          "output_type": "stream",
          "text": [
            "SQL to be executed:\n",
            " \n",
            "SELECT\n",
            "  Sample AS name,\n",
            "  Gender AS sex,\n",
            "  Super_Population AS ancestry,\n",
            "  Relationship AS relationship\n",
            "FROM\n",
            "  `bigquery-public-data.human_genome_variants.1000_genomes_sample_info`\n",
            "WHERE\n",
            "  Sample IN ('NA12877', 'NA12878', 'NA12889', 'NA12890', 'NA12891', 'NA12892')\n",
            "  \n",
            "\n",
            "Result shape:\t (6, 4)\n"
          ],
          "name": "stdout"
        }
      ]
    },
    {
      "metadata": {
        "id": "p7-YHG7zF8I8",
        "colab_type": "text"
      },
      "cell_type": "markdown",
      "source": [
        "# Visualize results by ancestry"
      ]
    },
    {
      "metadata": {
        "id": "pZNolPbBA4v4",
        "colab_type": "code",
        "outputId": "2c4192de-c526-43ae-a602-c647cceca060",
        "colab": {
          "base_uri": "https://localhost:8080/",
          "height": 35
        }
      },
      "cell_type": "code",
      "source": [
        "joined_results = pd.merge(df, metadata_df, how='left', on='name')\n",
        "joined_results.shape"
      ],
      "execution_count": 0,
      "outputs": [
        {
          "output_type": "execute_result",
          "data": {
            "text/plain": [
              "(6, 5)"
            ]
          },
          "metadata": {
            "tags": []
          },
          "execution_count": 11
        }
      ]
    },
    {
      "metadata": {
        "id": "wi_NRgTxGF5e",
        "colab_type": "code",
        "colab": {}
      },
      "cell_type": "code",
      "source": [
        "assert(joined_results.shape == (6, 5))"
      ],
      "execution_count": 0,
      "outputs": []
    },
    {
      "metadata": {
        "id": "_ROpTnVnGLme",
        "colab_type": "code",
        "outputId": "6ec1631b-f7f3-45dc-8058-76072fe15302",
        "colab": {
          "base_uri": "https://localhost:8080/",
          "height": 582
        }
      },
      "cell_type": "code",
      "source": [
        "p = (ggplot(joined_results) +\n",
        "     geom_boxplot(aes(x = 'ancestry', y = 'private_variant_count', fill = 'ancestry')) +\n",
        "     theme_minimal()\n",
        "    )\n",
        "p"
      ],
      "execution_count": 0,
      "outputs": [
        {
          "output_type": "display_data",
          "data": {
            "image/png": "[encoded data removed]",
            "text/plain": [
              "<Figure size 1000x600 with 1 Axes>"
            ]
          },
          "metadata": {
            "tags": []
          }
        },
        {
          "output_type": "execute_result",
          "data": {
            "text/plain": [
              "<ggplot: (-9223363307708460200)>"
            ]
          },
          "metadata": {
            "tags": []
          },
          "execution_count": 13
        }
      ]
    },
    {
      "metadata": {
        "id": "5HdJyHOLK6Wb",
        "colab_type": "text"
      },
      "cell_type": "markdown",
      "source": [
        "All individuals in this dataset are of the same ancestry, so that does not explain the pattern we see."
      ]
    },
    {
      "metadata": {
        "id": "INiGMxAkLFUD",
        "colab_type": "text"
      },
      "cell_type": "markdown",
      "source": [
        "# Visualize results by relationship\n",
        "\n",
        "We know from [the paper](https://genome.cshlp.org/content/27/1/157) that all members of this cohort are from the same family."
      ]
    },
    {
      "metadata": {
        "id": "kFDvii3XdY1s",
        "colab_type": "code",
        "outputId": "716a1d59-cc33-4b93-9ef6-a7ca68cb7a2e",
        "colab": {
          "base_uri": "https://localhost:8080/",
          "height": 522
        }
      },
      "cell_type": "code",
      "source": [
        "run_query(\"\"\"\n",
        "SELECT\n",
        "  *\n",
        "FROM\n",
        "  `bigquery-public-data.human_genome_variants.1000_genomes_pedigree`\n",
        "WHERE\n",
        "  Individual_ID IN ('NA12877', 'NA12878', 'NA12889', 'NA12890', 'NA12891', 'NA12892')\n",
        "\"\"\")"
      ],
      "execution_count": 0,
      "outputs": [
        {
          "output_type": "stream",
          "text": [
            "SQL to be executed:\n",
            " \n",
            "SELECT\n",
            "  *\n",
            "FROM\n",
            "  `bigquery-public-data.human_genome_variants.1000_genomes_pedigree`\n",
            "WHERE\n",
            "  Individual_ID IN ('NA12877', 'NA12878', 'NA12889', 'NA12890', 'NA12891', 'NA12892')\n",
            "\n",
            "Result shape:\t (6, 12)\n"
          ],
          "name": "stdout"
        },
        {
          "output_type": "execute_result",
          "data": {
            "text/html": [
              "<div>\n",
              "<style scoped>\n",
              "    .dataframe tbody tr th:only-of-type {\n",
              "        vertical-align: middle;\n",
              "    }\n",
              "\n",
              "    .dataframe tbody tr th {\n",
              "        vertical-align: top;\n",
              "    }\n",
              "\n",
              "    .dataframe thead th {\n",
              "        text-align: right;\n",
              "    }\n",
              "</style>\n",
              "<table border=\"1\" class=\"dataframe\">\n",
              "  <thead>\n",
              "    <tr style=\"text-align: right;\">\n",
              "      <th></th>\n",
              "      <th>Family_ID</th>\n",
              "      <th>Individual_ID</th>\n",
              "      <th>Paternal_ID</th>\n",
              "      <th>Maternal_ID</th>\n",
              "      <th>Gender</th>\n",
              "      <th>Phenotype</th>\n",
              "      <th>Population</th>\n",
              "      <th>Relationship</th>\n",
              "      <th>Siblings</th>\n",
              "      <th>Second_Order</th>\n",
              "      <th>Third_Order</th>\n",
              "      <th>Other_Comments</th>\n",
              "    </tr>\n",
              "  </thead>\n",
              "  <tbody>\n",
              "    <tr>\n",
              "      <th>0</th>\n",
              "      <td>1463</td>\n",
              "      <td>NA12877</td>\n",
              "      <td>NA12889</td>\n",
              "      <td>NA12890</td>\n",
              "      <td>1</td>\n",
              "      <td>0</td>\n",
              "      <td>CEU</td>\n",
              "      <td>father; child</td>\n",
              "      <td>0</td>\n",
              "      <td>0</td>\n",
              "      <td>0</td>\n",
              "      <td>0</td>\n",
              "    </tr>\n",
              "    <tr>\n",
              "      <th>1</th>\n",
              "      <td>1463</td>\n",
              "      <td>NA12889</td>\n",
              "      <td>0</td>\n",
              "      <td>0</td>\n",
              "      <td>1</td>\n",
              "      <td>0</td>\n",
              "      <td>CEU</td>\n",
              "      <td>pat grandfather; father</td>\n",
              "      <td>0</td>\n",
              "      <td>0</td>\n",
              "      <td>0</td>\n",
              "      <td>0</td>\n",
              "    </tr>\n",
              "    <tr>\n",
              "      <th>2</th>\n",
              "      <td>1463</td>\n",
              "      <td>NA12891</td>\n",
              "      <td>0</td>\n",
              "      <td>0</td>\n",
              "      <td>1</td>\n",
              "      <td>0</td>\n",
              "      <td>CEU</td>\n",
              "      <td>mat grandfather; father</td>\n",
              "      <td>0</td>\n",
              "      <td>0</td>\n",
              "      <td>0</td>\n",
              "      <td>0</td>\n",
              "    </tr>\n",
              "    <tr>\n",
              "      <th>3</th>\n",
              "      <td>1463</td>\n",
              "      <td>NA12878</td>\n",
              "      <td>NA12891</td>\n",
              "      <td>NA12892</td>\n",
              "      <td>2</td>\n",
              "      <td>0</td>\n",
              "      <td>CEU</td>\n",
              "      <td>mother; child</td>\n",
              "      <td>0</td>\n",
              "      <td>0</td>\n",
              "      <td>0</td>\n",
              "      <td>0</td>\n",
              "    </tr>\n",
              "    <tr>\n",
              "      <th>4</th>\n",
              "      <td>1463</td>\n",
              "      <td>NA12890</td>\n",
              "      <td>0</td>\n",
              "      <td>0</td>\n",
              "      <td>2</td>\n",
              "      <td>0</td>\n",
              "      <td>CEU</td>\n",
              "      <td>pat grandmother; mother</td>\n",
              "      <td>0</td>\n",
              "      <td>0</td>\n",
              "      <td>0</td>\n",
              "      <td>0</td>\n",
              "    </tr>\n",
              "    <tr>\n",
              "      <th>5</th>\n",
              "      <td>1463</td>\n",
              "      <td>NA12892</td>\n",
              "      <td>0</td>\n",
              "      <td>0</td>\n",
              "      <td>2</td>\n",
              "      <td>0</td>\n",
              "      <td>CEU</td>\n",
              "      <td>mat grandmother; mother</td>\n",
              "      <td>0</td>\n",
              "      <td>0</td>\n",
              "      <td>0</td>\n",
              "      <td>0</td>\n",
              "    </tr>\n",
              "  </tbody>\n",
              "</table>\n",
              "</div>"
            ],
            "text/plain": [
              "  Family_ID Individual_ID      ...       Third_Order Other_Comments\n",
              "0      1463       NA12877      ...                 0              0\n",
              "1      1463       NA12889      ...                 0              0\n",
              "2      1463       NA12891      ...                 0              0\n",
              "3      1463       NA12878      ...                 0              0\n",
              "4      1463       NA12890      ...                 0              0\n",
              "5      1463       NA12892      ...                 0              0\n",
              "\n",
              "[6 rows x 12 columns]"
            ]
          },
          "metadata": {
            "tags": []
          },
          "execution_count": 14
        }
      ]
    },
    {
      "metadata": {
        "colab_type": "code",
        "outputId": "bc97d304-0e2c-42b3-8276-3d93e0d050bd",
        "id": "eStyHA3ZHB45",
        "colab": {
          "base_uri": "https://localhost:8080/",
          "height": 582
        }
      },
      "cell_type": "code",
      "source": [
        "p = (ggplot(joined_results) +\n",
        "     geom_text(aes(x = 'name', y = 'private_variant_count', label = 'relationship')) +\n",
        "     theme_minimal()\n",
        "    )\n",
        "p"
      ],
      "execution_count": 0,
      "outputs": [
        {
          "output_type": "display_data",
          "data": {
            "image/png": "[encoded data removed]",
            "text/plain": [
              "<Figure size 1000x600 with 1 Axes>"
            ]
          },
          "metadata": {
            "tags": []
          }
        },
        {
          "output_type": "execute_result",
          "data": {
            "text/plain": [
              "<ggplot: (-9223363307708238876)>"
            ]
          },
          "metadata": {
            "tags": []
          },
          "execution_count": 16
        }
      ]
    },
    {
      "metadata": {
        "id": "rc_9j1RNLzM9",
        "colab_type": "text"
      },
      "cell_type": "markdown",
      "source": [
        "And we can see that the relationship between individuals explains the pattern we see in the private variant counts."
      ]
    }
  ]
}
